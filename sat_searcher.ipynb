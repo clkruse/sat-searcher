{
 "cells": [
  {
   "cell_type": "markdown",
   "metadata": {},
   "source": [
    "# Early Interactive Demo of Satelite Similarity Search\n",
    "To run this notebook, you must download the data from [sat-searcher on Google Drive](https://drive.google.com/drive/folders/1lac_YcJHp_6GlVFZo4AE3wN4qhx3mrct?usp=drive_link). Unzip the centroids and embeddings_8bit folders and place in the outputs directory."
   ]
  },
  {
   "cell_type": "code",
   "execution_count": null,
   "metadata": {},
   "outputs": [],
   "source": [
    "%load_ext autoreload\n",
    "%autoreload 2"
   ]
  },
  {
   "cell_type": "code",
   "execution_count": null,
   "metadata": {},
   "outputs": [],
   "source": [
    "import numpy as np\n",
    "import geopandas as gpd\n",
    "import ipyleaflet as ipyl\n",
    "import ipywidgets as ipyw\n",
    "\n",
    "import tools"
   ]
  },
  {
   "cell_type": "code",
   "execution_count": null,
   "metadata": {},
   "outputs": [],
   "source": [
    "centroids, embeddings = tools.load_embeddings(\n",
    "    centroid_dir='./outputs/centroids/', \n",
    "    embedding_dir='./outputs/embeddings_8bit/')\n",
    "index = tools.index_embeddings(embeddings)"
   ]
  },
  {
   "cell_type": "code",
   "execution_count": null,
   "metadata": {},
   "outputs": [],
   "source": [
    "boundaries = []\n",
    "for f in ['israel', 'bali', 'alabama']:\n",
    "    boundaries.append(gpd.read_file(f'./data/boundaries/{f}.geojson'))\n",
    "\n",
    "center = [32.3182, -86.9023] # center on alabama\n",
    "m = ipyl.Map(basemap=ipyl.basemaps.Esri.WorldImagery, center=center, zoom=8, scroll_wheel_zoom=True)\n",
    "# set the map size\n",
    "m.layout.height = '800px'\n",
    "\n",
    "# add the boundaries to the map with a thin white line and transparent fill\n",
    "for b in boundaries:\n",
    "    m.add_layer(ipyl.GeoData(geo_dataframe=b,\n",
    "                             style={'color': 'white', 'fillOpacity': 0.0}))\n",
    "# create an empty layer that I can use to write geometries to on click\n",
    "search_data = ipyl.GeoJSON(data={'type': 'FeatureCollection', 'features': []}, style={'color': 'blue'})\n",
    "result_data = ipyl.GeoJSON(data={'type': 'FeatureCollection', 'features': []}, style={'color': 'red'})\n",
    "result_data_8_bit = ipyl.GeoJSON(data={'type': 'FeatureCollection', 'features': []}, style={'color': 'yellow'})\n",
    "\n",
    "m.add_layer(search_data)\n",
    "m.add_layer(result_data)\n",
    "m.add_layer(result_data_8_bit)\n",
    "\n",
    "# create two buttons on the map. One that is called m.pos and one that is called m.neg\n",
    "# m.pos should be green and have a checkmark, m.neg should be red and have an x\n",
    "\n",
    "m.pos = ipyw.Button(description='✅', button_style='success')\n",
    "m.neg = ipyw.Button(description='❌', button_style='danger')\n",
    "m.pos.on_click(lambda b: setattr(m, 'mode', 'pos'))\n",
    "m.neg.on_click(lambda b: setattr(m, 'mode', 'neg'))\n",
    "m.pos.layout.width = '35px'\n",
    "m.neg.layout.width = '35px'\n",
    "m.pos.layout.margin = '3px'\n",
    "m.neg.layout.margin = '3px'\n",
    "\n",
    "# put them on the map\n",
    "mode_selector = ipyl.WidgetControl(widget=ipyw.VBox([m.pos, m.neg]),\n",
    "                                   position='bottomright')\n",
    "m.add_control(mode_selector)\n",
    "m.mode = 'pos'\n",
    "\n",
    "\n",
    "m.pos_vectors = []\n",
    "m.neg_vectors = []\n",
    "\n",
    "# get coordinates when clicking on the map\n",
    "def click(**kwargs):\n",
    "    if kwargs.get('type') == 'click':\n",
    "        # clear the result data\n",
    "        #search_data.data = {'type': 'FeatureCollection', 'features': []}\n",
    "        click_y, click_x = kwargs.get('coordinates')\n",
    "        tile_index, _ = tools.get_neighbors(np.array([click_x, click_y]),\n",
    "                                      centroids,\n",
    "                                      metric='euclid',\n",
    "                                      n=1)\n",
    "        tile_index = tile_index[0]\n",
    "        tile_geom = tools.tile_from_point(centroids[tile_index][0],\n",
    "                                    centroids[tile_index][1])\n",
    "        # add the layer in blue to result data\n",
    "        search_data.data = tile_geom\n",
    "        tile_embedding = embeddings[tile_index]\n",
    "        if m.mode == 'pos':\n",
    "            m.pos_vectors.append(tile_embedding)\n",
    "        elif m.mode == 'neg':\n",
    "            m.neg_vectors.append(tile_embedding)\n",
    "        \n",
    "        if len(m.neg_vectors) == 0:\n",
    "            search_embedding = np.mean(m.pos_vectors, axis=0)\n",
    "        else:\n",
    "            search_embedding = 2 * np.mean(m.pos_vectors, axis=0) - np.mean(m.neg_vectors, axis=0)\n",
    "        tools.retrieve_neighbors(search_embedding,\n",
    "                           index,\n",
    "                           result_data,\n",
    "                           centroids,\n",
    "                           threshold=200000,\n",
    "                           n=200)\n",
    "m.on_interaction(click)\n",
    "m"
   ]
  },
  {
   "cell_type": "code",
   "execution_count": null,
   "metadata": {},
   "outputs": [],
   "source": []
  }
 ],
 "metadata": {
  "kernelspec": {
   "display_name": "sat",
   "language": "python",
   "name": "python3"
  },
  "language_info": {
   "codemirror_mode": {
    "name": "ipython",
    "version": 3
   },
   "file_extension": ".py",
   "mimetype": "text/x-python",
   "name": "python",
   "nbconvert_exporter": "python",
   "pygments_lexer": "ipython3",
   "version": "3.10.0"
  }
 },
 "nbformat": 4,
 "nbformat_minor": 2
}
